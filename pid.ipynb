{
 "cells": [
  {
   "cell_type": "code",
   "execution_count": null,
   "metadata": {},
   "outputs": [],
   "source": [
    "from simple_pid import PID\n",
    "pid_x = PID(1, 0.1, 0, setpoint=320/2)\n",
    "pid_y = PID(1, 0.1, 0, setpoint=240/2)\n",
    "\n",
    "# Assume we have a system we want to control in controlled_system\n",
    "x = system.update_yaw(0)\n",
    "y = system.update_pitch(0)\n",
    "\n",
    "while True:\n",
    "    # Compute new output from the PID according to the systems current value\n",
    "    yaw = pid_x(x)\n",
    "    pitch = pid_y(y)\n",
    "    \n",
    "    # Feed the PID output to the system and get its current value\n",
    "    x = system.update_yaw(yaw)\n",
    "    y = system.update_pitch(pitch)"
   ]
  }
 ],
 "metadata": {
  "kernelspec": {
   "display_name": "sci",
   "language": "python",
   "name": "python3"
  },
  "language_info": {
   "codemirror_mode": {
    "name": "ipython",
    "version": 3
   },
   "file_extension": ".py",
   "mimetype": "text/x-python",
   "name": "python",
   "nbconvert_exporter": "python",
   "pygments_lexer": "ipython3",
   "version": "3.10.6"
  }
 },
 "nbformat": 4,
 "nbformat_minor": 2
}
