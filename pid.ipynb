{
 "cells": [
  {
   "cell_type": "code",
   "execution_count": null,
   "metadata": {},
   "outputs": [],
   "source": [
    "from simple_pid import PID\n",
    "\n",
    "setpoint_x = 320/2\n",
    "setpoint_y = 240/2\n",
    "\n",
    "pid_x = PID(1, 0.1, 0, setpoint=setpoint_x) # midpoint\n",
    "pid_y = PID(1, 0.1, 0, setpoint=setpoint_y) # midpoint\n",
    "\n",
    "# Assume we have a system we want to control in controlled_system\n",
    "x = system.update_yaw(0)\n",
    "y = system.update_pitch(0)\n",
    "\n",
    "while True:\n",
    "    # Compute new output from the PID according to the systems current value\n",
    "    yaw = pid_x(x)\n",
    "    pitch = pid_y(y)\n",
    "    \n",
    "    # Feed the PID output to the system and get its current value\n",
    "    x = system.update_yaw(yaw)\n",
    "    y = system.update_pitch(pitch)\n",
    "\n",
    "    # handle target disappeared\n",
    "\n",
    "    # handle target is in the middle of the frame\n"
   ]
  },
  {
   "cell_type": "code",
   "execution_count": null,
   "metadata": {},
   "outputs": [],
   "source": []
  }
 ],
 "metadata": {
  "kernelspec": {
   "display_name": "sci",
   "language": "python",
   "name": "python3"
  },
  "language_info": {
   "codemirror_mode": {
    "name": "ipython",
    "version": 3
   },
   "file_extension": ".py",
   "mimetype": "text/x-python",
   "name": "python",
   "nbconvert_exporter": "python",
   "pygments_lexer": "ipython3",
   "version": "3.10.6"
  }
 },
 "nbformat": 4,
 "nbformat_minor": 2
}
